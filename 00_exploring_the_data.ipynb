{
  "nbformat": 4,
  "nbformat_minor": 0,
  "metadata": {
    "colab": {
      "name": "00_exploring_the_data.ipynb",
      "provenance": [],
      "collapsed_sections": [],
      "authorship_tag": "ABX9TyPGRGUahukTJG6SXh8UVM9K",
      "include_colab_link": true
    },
    "kernelspec": {
      "name": "python3",
      "display_name": "Python 3"
    },
    "language_info": {
      "name": "python"
    }
  },
  "cells": [
    {
      "cell_type": "markdown",
      "metadata": {
        "id": "view-in-github",
        "colab_type": "text"
      },
      "source": [
        "<a href=\"https://colab.research.google.com/github/adecora/ADconvolutionalneuralnetwork/blob/main/00_exploring_the_data.ipynb\" target=\"_parent\"><img src=\"https://colab.research.google.com/assets/colab-badge.svg\" alt=\"Open In Colab\"/></a>"
      ]
    },
    {
      "cell_type": "markdown",
      "metadata": {
        "id": "-VIWjZgEKOGy"
      },
      "source": [
        "# Explore PET data"
      ]
    },
    {
      "cell_type": "code",
      "metadata": {
        "colab": {
          "base_uri": "https://localhost:8080/"
        },
        "id": "uYs624rtJcx-",
        "outputId": "4d96e381-9123-4adf-b41d-e73cf4ca7b15"
      },
      "source": [
        "# mount drive to access data file\n",
        "\n",
        "from google.colab import drive\n",
        "drive.mount('./mount')"
      ],
      "execution_count": 1,
      "outputs": [
        {
          "output_type": "stream",
          "text": [
            "Mounted at ./mount\n"
          ],
          "name": "stdout"
        }
      ]
    },
    {
      "cell_type": "code",
      "metadata": {
        "id": "dUWhNTE8J1Eh"
      },
      "source": [
        "# import libraries\n",
        "import os\n",
        "from xml.etree.ElementTree import parse"
      ],
      "execution_count": 2,
      "outputs": []
    },
    {
      "cell_type": "code",
      "metadata": {
        "id": "UZb6SsoKLBQb"
      },
      "source": [
        "def search_files(path, extensions):\n",
        "  \"\"\"\n",
        "  Counts the number of files of the given extensions in a path recursively.\n",
        "  It returns a dictionary with the basename of the direcotries and the number \n",
        "  of files in it\n",
        "  Parameters:\n",
        "    path:  path were to find the files\n",
        "    extensions: file extensions to look for\n",
        "  \"\"\"\n",
        "  data_files = {}\n",
        "  for subdir, dirs, files in os.walk(path):\n",
        "    num_files = 0\n",
        "    for file in files:\n",
        "      if os.path.splitext(file)[1] in extensions:\n",
        "        num_files += 1\n",
        "    if num_files:\n",
        "      data_files[os.path.basename(subdir)] = num_files\n",
        "  return data_files"
      ],
      "execution_count": 3,
      "outputs": []
    },
    {
      "cell_type": "code",
      "metadata": {
        "colab": {
          "base_uri": "https://localhost:8080/"
        },
        "id": "MbZssil0L_Fd",
        "outputId": "1be4adc0-bca8-4149-c632-87b65c3b03c6"
      },
      "source": [
        "data_path = \"/content/mount/MyDrive/PET\"\n",
        "data_files = search_files(data_path, ['.nii'])\n",
        "print(data_files)"
      ],
      "execution_count": 4,
      "outputs": [
        {
          "output_type": "stream",
          "text": [
            "{'NOR': 136, 'AD': 140}\n"
          ],
          "name": "stdout"
        }
      ]
    },
    {
      "cell_type": "code",
      "metadata": {
        "colab": {
          "base_uri": "https://localhost:8080/"
        },
        "id": "1UZHE-zPMKRu",
        "outputId": "c36cf8e9-16de-4589-fb2b-9fd68c8f8715"
      },
      "source": [
        "# Count the total number of .nii files\n",
        "print(f\"The total number of .nii files is {sum(data_files.values())}\")"
      ],
      "execution_count": 5,
      "outputs": [
        {
          "output_type": "stream",
          "text": [
            "The total number of .nii files is 276\n"
          ],
          "name": "stdout"
        }
      ]
    },
    {
      "cell_type": "markdown",
      "metadata": {
        "id": "sglWbuiGVK5H"
      },
      "source": [
        "### Checking the info save in .xml files"
      ]
    },
    {
      "cell_type": "code",
      "metadata": {
        "id": "xz7DjaQ3YiFN"
      },
      "source": [
        "def parse_xml(xml, select=None, types=None):\n",
        "  '''\n",
        "  Parse a XML file into a dictionary with type conversion.\n",
        "  '''\n",
        "  # We start by reading some fix info\n",
        "  xml_info = {}\n",
        "  for subjectInfo in xml.findall(\".//subjectInfo\"):\n",
        "    try: \n",
        "      xml_info[subjectInfo.attrib['item']] = int(subjectInfo.text)\n",
        "    except ValueError as e:\n",
        "      xml_info[subjectInfo.attrib['item']] = subjectInfo.text\n",
        "\n",
        "  if select:\n",
        "    try:\n",
        "      values = [ xml.findall(f\".//{key}\")[-1].text for key in select ]\n",
        "    except IndexError as e:\n",
        "      pass\n",
        "  \n",
        "  if types:\n",
        "    try:\n",
        "      values = [func(val) for func, val in zip(types, values)]\n",
        "    except ValueError as e:\n",
        "      pass\n",
        "\n",
        "  if values:\n",
        "    for key, val in zip(select, values):\n",
        "      xml_info[key] = val\n",
        "  \n",
        "  return xml_info"
      ],
      "execution_count": 6,
      "outputs": []
    },
    {
      "cell_type": "code",
      "metadata": {
        "id": "Lx-uM4LVZtRH"
      },
      "source": [
        "xml_path = \"/content/mount/MyDrive/PET/AD/ADNI_005_S_0221_Coreg,_Avg,_Std_Img_and_Vox_Siz,_Uniform_Resolution_S12240_I26243.xml\""
      ],
      "execution_count": 7,
      "outputs": []
    },
    {
      "cell_type": "code",
      "metadata": {
        "colab": {
          "base_uri": "https://localhost:8080/"
        },
        "id": "TN8K96hncUmG",
        "outputId": "9d489800-fde1-4b8e-b645-3c22d18cb145"
      },
      "source": [
        "# We extract some useful info from the .xml file\n",
        "parse_xml(parse(xml_path), ['subjectSex','subjectAge','weightKg'], [str, float, float])"
      ],
      "execution_count": 8,
      "outputs": [
        {
          "output_type": "execute_result",
          "data": {
            "text/plain": [
              "{'APOE A1': 4,\n",
              " 'APOE A2': 4,\n",
              " 'DX Group': 'AD',\n",
              " 'subjectAge': 67.57,\n",
              " 'subjectSex': 'M',\n",
              " 'weightKg': 112.94}"
            ]
          },
          "metadata": {
            "tags": []
          },
          "execution_count": 8
        }
      ]
    }
  ]
}