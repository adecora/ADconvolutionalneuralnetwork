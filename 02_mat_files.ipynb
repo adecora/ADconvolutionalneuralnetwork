{
  "nbformat": 4,
  "nbformat_minor": 0,
  "metadata": {
    "colab": {
      "name": "02_mat_files.ipynb",
      "provenance": [],
      "collapsed_sections": [],
      "authorship_tag": "ABX9TyORBZblbVoam4MWxRkjDjTd",
      "include_colab_link": true
    },
    "kernelspec": {
      "name": "python3",
      "display_name": "Python 3"
    },
    "language_info": {
      "name": "python"
    }
  },
  "cells": [
    {
      "cell_type": "markdown",
      "metadata": {
        "id": "view-in-github",
        "colab_type": "text"
      },
      "source": [
        "<a href=\"https://colab.research.google.com/github/adecora/ADconvolutionalneuralnetwork/blob/main/02_mat_files.ipynb\" target=\"_parent\"><img src=\"https://colab.research.google.com/assets/colab-badge.svg\" alt=\"Open In Colab\"/></a>"
      ]
    },
    {
      "cell_type": "markdown",
      "metadata": {
        "id": "hDYQzsE7nUDj"
      },
      "source": [
        "# Exploring mat files"
      ]
    },
    {
      "cell_type": "code",
      "metadata": {
        "colab": {
          "base_uri": "https://localhost:8080/"
        },
        "id": "s0Y0AlScnPg7",
        "outputId": "f8b41138-714e-4df9-e463-2dd4d9b8f168"
      },
      "source": [
        "# mount drive to access data files\n",
        "\n",
        "from google.colab import drive\n",
        "drive.mount('./mount')"
      ],
      "execution_count": 1,
      "outputs": [
        {
          "output_type": "stream",
          "text": [
            "Mounted at ./mount\n"
          ],
          "name": "stdout"
        }
      ]
    },
    {
      "cell_type": "code",
      "metadata": {
        "id": "TwpO4y08n3Ql"
      },
      "source": [
        "# import libraries\n",
        "\n",
        "import scipy.io"
      ],
      "execution_count": 2,
      "outputs": []
    },
    {
      "cell_type": "markdown",
      "metadata": {
        "id": "fDvCpmNHpD-N"
      },
      "source": [
        "### MATLAB File"
      ]
    },
    {
      "cell_type": "code",
      "metadata": {
        "id": "YHpOi_0mpDic"
      },
      "source": [
        "sample_filename = './mount/MyDrive/PET/AD/ADNI_005_S_0221_PT_Coreg,_Avg,_Std_Img_and_Vox_Siz,_Uniform_Resolution_Br_20061013145718721_1_S12240_I26243_sn.mat'\n",
        "f = scipy.io.loadmat(sample_filename)"
      ],
      "execution_count": 3,
      "outputs": []
    },
    {
      "cell_type": "code",
      "metadata": {
        "colab": {
          "base_uri": "https://localhost:8080/"
        },
        "id": "BdTa8FZMpiM1",
        "outputId": "6b82b27f-b0fb-4957-b2b3-b58fd6b16725"
      },
      "source": [
        "f.keys()"
      ],
      "execution_count": 4,
      "outputs": [
        {
          "output_type": "execute_result",
          "data": {
            "text/plain": [
              "dict_keys(['__header__', '__version__', '__globals__', 'VG', 'VF', 'flags', 'Affine', 'Tr'])"
            ]
          },
          "metadata": {
            "tags": []
          },
          "execution_count": 4
        }
      ]
    },
    {
      "cell_type": "code",
      "metadata": {
        "colab": {
          "base_uri": "https://localhost:8080/",
          "height": 35
        },
        "id": "zeNyvYL0sDjQ",
        "outputId": "7f14cdcb-463a-434c-d883-cce1d9408604"
      },
      "source": [
        "f['__header__'].decode('UTF-8')"
      ],
      "execution_count": 5,
      "outputs": [
        {
          "output_type": "execute_result",
          "data": {
            "application/vnd.google.colaboratory.intrinsic+json": {
              "type": "string"
            },
            "text/plain": [
              "'MATLAB 5.0 MAT-file, Platform: PCWIN64, Created on: Tue Sep 17 19:27:23 2013'"
            ]
          },
          "metadata": {
            "tags": []
          },
          "execution_count": 5
        }
      ]
    },
    {
      "cell_type": "code",
      "metadata": {
        "colab": {
          "base_uri": "https://localhost:8080/"
        },
        "id": "5YKwYfx5u4fO",
        "outputId": "82bc2b90-d75c-40a8-c7b6-00110fa811b3"
      },
      "source": [
        "f['Tr'].shape"
      ],
      "execution_count": 6,
      "outputs": [
        {
          "output_type": "execute_result",
          "data": {
            "text/plain": [
              "(7, 9, 7, 3)"
            ]
          },
          "metadata": {
            "tags": []
          },
          "execution_count": 6
        }
      ]
    }
  ]
}